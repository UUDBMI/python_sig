{
 "cells": [
  {
   "cell_type": "markdown",
   "metadata": {},
   "source": [
    "With reference to Voltaire's famous novel *Candide*, our authors state \"[A]nnoingly, our programs don't always function properly the first time we run them.\" (p. 85).\n",
    "\n",
    "This might be considered an extreme understatement, especially when we are new to programming or even if we are experienced, when we are learning a new language or tackling a new problem. In this module, we will be learning some tips and tricks to help us find and fix errors in our programs. Going back to the early days of programming, these errors are referred to as \"bugs\" and finding and fixing them is usually referred to as \"debugging.\" \n",
    "\n",
    "Tools have been developed to facilitate debugging; we will play with some of these tools for Python. We can design our programs in a way that makes them easier to debug. We can use systematic search heuristics to find the errors. Heuristics is a key word here, and we will make frequent references to Polya's method in this module."
   ]
  },
  {
   "cell_type": "markdown",
   "metadata": {},
   "source": [
    "## First Steps\n",
    "\n",
    "### Get the Language (Python) to Agree to Run the Program\n",
    "\n",
    "* Eliminate syntactical and static semantic errors\n",
    "\n",
    "### [PyLint](https://www.pylint.org/)\n"
   ]
  },
  {
   "cell_type": "code",
   "execution_count": null,
   "metadata": {},
   "outputs": [],
   "source": [
    "for i in rang(1,0):\n",
    "    print i"
   ]
  },
  {
   "cell_type": "markdown",
   "metadata": {},
   "source": [
    "![vim_lint_demo](./vim_lint.png)"
   ]
  },
  {
   "cell_type": "markdown",
   "metadata": {},
   "source": [
    "While the notebook has Python aware syntax highlighting, it doesn't alert me to my typo of `rang` instead of `range`. When using my VIM editor with PyLint support, however, the editor highlights `rang` and tells me that it is an undefined name. This visual highlighting of errors can be very valuable.\n",
    "\n",
    "#### What about `print i`?\n",
    "\n",
    "Why doesn't the editor complain about `print i`? While this syntax is an error in Python 3, it is not an error in Python 2."
   ]
  },
  {
   "cell_type": "markdown",
   "metadata": {},
   "source": [
    "## Debugging\n",
    "\n",
    "### Types of runtime bugs\n",
    "\n",
    "#### Overt/Covert\n",
    "\n",
    "* **Overt errors** are obvious because they result in something obvious like the program crashing or never ending\n",
    "* **Covert errors** do not result in something drastic. They simply produce wrong results.\n",
    "    * The bug in `isPrime` defined above is a covert error: The function runs nicely for all integer input, but produces the wrong value for one input value?\n",
    "    \n",
    "#### Persistent/Intermittent\n",
    "\n",
    "* **Persistent errors** occur every time a program runs.\n",
    "* **Intermittent errors** only occur sometimes\n",
    "    * Difficult to address\n",
    "    \n",
    "### What have I found to be difficult to debug?\n",
    "\n",
    "* Programs with user interactions, particularly graphical user interfaces\n",
    "* Bugs that occur after a long chain of necessary computations."
   ]
  },
  {
   "cell_type": "markdown",
   "metadata": {},
   "source": [
    "## Learning to Debug\n",
    "\n",
    ">Debugging is a learned skill. Nobody does it will instinctively. The good news is that it's not hard to learn, and it is a transferable skill. (p. 94)\n",
    "\n",
    "### There is more good news!\n",
    "\n",
    "You will have lots of opportunity to learn how to debug because you will be making lots of mistakes throughout this class!\n",
    "\n",
    "### Debugging Tools\n",
    "\n",
    "* Python comes with a debugging module known as the **p**ython **d**e**b**ugger ([pdb](https://docs.python.org/3/library/pdb.html))\n",
    "* IPython has its own debugging package known as [ipdb](https://pypi.python.org/pypi/ipdb)."
   ]
  },
  {
   "cell_type": "markdown",
   "metadata": {},
   "source": [
    "The function `euclid` is supposed to compute the greatest common denominator of two positive integers. However, it fails to terminate.\n",
    "\n",
    "```Python\n",
    "def euclid(x,y):\n",
    "    if x == y:\n",
    "        return x\n",
    "    if x > y:\n",
    "        return euclid(y-x,x)\n",
    "    else:\n",
    "        return euclid(x-y,y)\n",
    "```"
   ]
  },
  {
   "cell_type": "code",
   "execution_count": null,
   "metadata": {},
   "outputs": [],
   "source": [
    "def euclid(x, y):\n",
    "    if x == y:\n",
    "        return x\n",
    "    if x > y:\n",
    "        return euclid(y - x, x)\n",
    "    else:\n",
    "        return euclid(x - y, y)"
   ]
  },
  {
   "cell_type": "markdown",
   "metadata": {},
   "source": [
    "### Example: Debugging a Pandas Application\n",
    "\n",
    "Here is a code snippet that I previously wrote to read a table from a website using `read_html`\n",
    "\n",
    "```Python\n",
    "mortality = pd.read_html(\"https://www.ssa.gov/oact/STATS/table4c6.html\", \n",
    "                         skiprows=4, \n",
    "                         header=None)[0]\n",
    "mortality = mortality.iloc[0:120,[1,4]]\n",
    "mortality.rename(columns=dict(zip(mortality.columns, \n",
    "                                  (\"Male prob. death\", \n",
    "                                   \"Female prob. death\"))),inplace=True)\n",
    "mortality.head()\n",
    "```\n",
    "#### What is this code doing?\n",
    "\n",
    "* Opening the website. \n",
    "* Skipping four rows\n",
    "* Assume there is no header\n",
    "* Take the first DataFrame that results from this read\n",
    "* Keep the first 120 rows and the 2nd and 4th columns\n",
    "* Rename two columns we kept\n",
    "\n",
    "What I expect as output is this:\n",
    "<table border=\"1\" class=\"dataframe\">\n",
    "  <thead>\n",
    "    <tr style=\"text-align: right;\">\n",
    "      <th></th>\n",
    "      <th>Male prob. death</th>\n",
    "      <th>Female prob. death</th>\n",
    "    </tr>\n",
    "  </thead>\n",
    "  <tbody>\n",
    "    <tr>\n",
    "      <th>0</th>\n",
    "      <td>0.006322</td>\n",
    "      <td>0.005313</td>\n",
    "    </tr>\n",
    "    <tr>\n",
    "      <th>1</th>\n",
    "      <td>0.000396</td>\n",
    "      <td>0.000346</td>\n",
    "    </tr>\n",
    "    <tr>\n",
    "      <th>2</th>\n",
    "      <td>0.000282</td>\n",
    "      <td>0.000221</td>\n",
    "    </tr>\n",
    "    <tr>\n",
    "      <th>3</th>\n",
    "      <td>0.000212</td>\n",
    "      <td>0.000162</td>\n",
    "    </tr>\n",
    "    <tr>\n",
    "      <th>4</th>\n",
    "      <td>0.000186</td>\n",
    "      <td>0.000131</td>\n",
    "    </tr>\n",
    "  </tbody>\n",
    "</table>"
   ]
  },
  {
   "cell_type": "markdown",
   "metadata": {},
   "source": [
    "#### What do I actually get?\n"
   ]
  },
  {
   "cell_type": "code",
   "execution_count": 2,
   "metadata": {},
   "outputs": [
    {
     "data": {
      "text/html": [
       "<div>\n",
       "<style scoped>\n",
       "    .dataframe tbody tr th:only-of-type {\n",
       "        vertical-align: middle;\n",
       "    }\n",
       "\n",
       "    .dataframe tbody tr th {\n",
       "        vertical-align: top;\n",
       "    }\n",
       "\n",
       "    .dataframe thead tr th {\n",
       "        text-align: left;\n",
       "    }\n",
       "</style>\n",
       "<table border=\"1\" class=\"dataframe\">\n",
       "  <thead>\n",
       "    <tr>\n",
       "      <th></th>\n",
       "      <th>Male</th>\n",
       "      <th>Unnamed: 4_level_0</th>\n",
       "    </tr>\n",
       "    <tr>\n",
       "      <th></th>\n",
       "      <th>Number of  lives b</th>\n",
       "      <th>Number of  lives b</th>\n",
       "    </tr>\n",
       "  </thead>\n",
       "  <tbody>\n",
       "    <tr>\n",
       "      <th>0</th>\n",
       "      <td>0.006322</td>\n",
       "      <td>0.005313</td>\n",
       "    </tr>\n",
       "    <tr>\n",
       "      <th>1</th>\n",
       "      <td>0.000396</td>\n",
       "      <td>0.000346</td>\n",
       "    </tr>\n",
       "    <tr>\n",
       "      <th>2</th>\n",
       "      <td>0.000282</td>\n",
       "      <td>0.000221</td>\n",
       "    </tr>\n",
       "    <tr>\n",
       "      <th>3</th>\n",
       "      <td>0.000212</td>\n",
       "      <td>0.000162</td>\n",
       "    </tr>\n",
       "    <tr>\n",
       "      <th>4</th>\n",
       "      <td>0.000186</td>\n",
       "      <td>0.000131</td>\n",
       "    </tr>\n",
       "  </tbody>\n",
       "</table>\n",
       "</div>"
      ],
      "text/plain": [
       "                Male Unnamed: 4_level_0\n",
       "  Number of  lives b Number of  lives b\n",
       "0           0.006322           0.005313\n",
       "1           0.000396           0.000346\n",
       "2           0.000282           0.000221\n",
       "3           0.000212           0.000162\n",
       "4           0.000186           0.000131"
      ]
     },
     "execution_count": 2,
     "metadata": {},
     "output_type": "execute_result"
    }
   ],
   "source": [
    "import pandas as pd\n",
    "from IPython.display import display, HTML\n",
    "\n",
    "mortality = pd.read_html(\n",
    "    \"https://www.ssa.gov/oact/STATS/table4c6.html\", skiprows=4, header=None)[0]\n",
    "mortality = mortality.iloc[0:120, [1, 4]]\n",
    "mortality.rename(\n",
    "    columns=dict(\n",
    "        zip(mortality.columns, (\"Male prob. death\", \"Female prob. death\"))),\n",
    "    inplace=True)\n",
    "mortality.head()"
   ]
  },
  {
   "cell_type": "markdown",
   "metadata": {},
   "source": [
    "#### My column renaming has failed!\n",
    "#### What are my potential debugging steps?"
   ]
  },
  {
   "cell_type": "code",
   "execution_count": null,
   "metadata": {},
   "outputs": [],
   "source": [
    "\n"
   ]
  },
  {
   "cell_type": "code",
   "execution_count": null,
   "metadata": {},
   "outputs": [],
   "source": []
  },
  {
   "cell_type": "code",
   "execution_count": null,
   "metadata": {},
   "outputs": [],
   "source": []
  },
  {
   "cell_type": "code",
   "execution_count": null,
   "metadata": {},
   "outputs": [],
   "source": []
  },
  {
   "cell_type": "code",
   "execution_count": null,
   "metadata": {},
   "outputs": [],
   "source": [
    "def increment_study(participants, mortality, unit=10):\n",
    "    delta = 365/unit\n",
    "    mkeys = {\"M\":\"Male prob. death\", \"F\":\"Female prob. death\"}\n",
    "    for p in participants:\n",
    "        p.increment_study_time(relativedelta(days=+unit))\n",
    "        if random.random()< mortality.iloc[p.age[\"years\"]][mkeys[p.sex]]/delta:\n",
    "            p.dies()\n",
    "    return None\n",
    "while True:\n",
    "    living = [p for p in participants if not p.deceased]\n",
    "    if len(living)%200 == 0:\n",
    "        print(len(living))\n",
    "    if not living:\n",
    "        break\n",
    "    increment_study(living, mortality)"
   ]
  },
  {
   "cell_type": "code",
   "execution_count": null,
   "metadata": {},
   "outputs": [],
   "source": []
  },
  {
   "cell_type": "code",
   "execution_count": 4,
   "metadata": {},
   "outputs": [
    {
     "name": "stderr",
     "output_type": "stream",
     "text": [
      "/opt/conda/lib/python3.6/site-packages/pandas/io/parsers.py:813: FutureWarning: The 'tupleize_cols' argument has been deprecated and will be removed in a future version. Column tuples will then always be converted to MultiIndex.\n",
      "\n",
      "\n",
      "  self.options, self.engine = self._clean_options(options, engine)\n"
     ]
    },
    {
     "data": {
      "text/html": [
       "<div>\n",
       "<style scoped>\n",
       "    .dataframe tbody tr th:only-of-type {\n",
       "        vertical-align: middle;\n",
       "    }\n",
       "\n",
       "    .dataframe tbody tr th {\n",
       "        vertical-align: top;\n",
       "    }\n",
       "\n",
       "    .dataframe thead th {\n",
       "        text-align: right;\n",
       "    }\n",
       "</style>\n",
       "<table border=\"1\" class=\"dataframe\">\n",
       "  <thead>\n",
       "    <tr style=\"text-align: right;\">\n",
       "      <th></th>\n",
       "      <th>Male prob. death</th>\n",
       "      <th>Female prob. death</th>\n",
       "    </tr>\n",
       "  </thead>\n",
       "  <tbody>\n",
       "    <tr>\n",
       "      <th>0</th>\n",
       "      <td>0.006322</td>\n",
       "      <td>0.005313</td>\n",
       "    </tr>\n",
       "    <tr>\n",
       "      <th>1</th>\n",
       "      <td>0.000396</td>\n",
       "      <td>0.000346</td>\n",
       "    </tr>\n",
       "    <tr>\n",
       "      <th>2</th>\n",
       "      <td>0.000282</td>\n",
       "      <td>0.000221</td>\n",
       "    </tr>\n",
       "    <tr>\n",
       "      <th>3</th>\n",
       "      <td>0.000212</td>\n",
       "      <td>0.000162</td>\n",
       "    </tr>\n",
       "    <tr>\n",
       "      <th>4</th>\n",
       "      <td>0.000186</td>\n",
       "      <td>0.000131</td>\n",
       "    </tr>\n",
       "  </tbody>\n",
       "</table>\n",
       "</div>"
      ],
      "text/plain": [
       "   Male prob. death  Female prob. death\n",
       "0          0.006322            0.005313\n",
       "1          0.000396            0.000346\n",
       "2          0.000282            0.000221\n",
       "3          0.000212            0.000162\n",
       "4          0.000186            0.000131"
      ]
     },
     "execution_count": 4,
     "metadata": {},
     "output_type": "execute_result"
    }
   ],
   "source": []
  },
  {
   "cell_type": "code",
   "execution_count": null,
   "metadata": {},
   "outputs": [],
   "source": []
  }
 ],
 "metadata": {
  "kernelspec": {
   "display_name": "Python 3",
   "language": "python",
   "name": "python3"
  },
  "language_info": {
   "codemirror_mode": {
    "name": "ipython",
    "version": 3
   },
   "file_extension": ".py",
   "mimetype": "text/x-python",
   "name": "python",
   "nbconvert_exporter": "python",
   "pygments_lexer": "ipython3",
   "version": "3.6.3"
  },
  "toc": {
   "base_numbering": 1,
   "nav_menu": {},
   "number_sections": true,
   "sideBar": true,
   "skip_h1_title": false,
   "title_cell": "Table of Contents",
   "title_sidebar": "Contents",
   "toc_cell": false,
   "toc_position": {},
   "toc_section_display": true,
   "toc_window_display": false
  }
 },
 "nbformat": 4,
 "nbformat_minor": 2
}
