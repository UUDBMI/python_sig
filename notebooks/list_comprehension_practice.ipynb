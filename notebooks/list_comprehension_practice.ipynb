{
 "cells": [
  {
   "cell_type": "code",
   "execution_count": null,
   "metadata": {
    "deletable": false,
    "editable": false,
    "nbgrader": {
     "checksum": "a90a726cd4c0a32463f7e9457435cfcd",
     "grade": false,
     "grade_id": "cell-754bf42cd75ecc65",
     "locked": true,
     "schema_version": 1,
     "solution": false
    }
   },
   "outputs": [],
   "source": [
    "from nose.tools import assert_equal, assert_true, assert_false"
   ]
  },
  {
   "cell_type": "markdown",
   "metadata": {
    "deletable": false,
    "editable": false,
    "nbgrader": {
     "checksum": "264b122ef64257eb220914a108f2a237",
     "grade": false,
     "grade_id": "cell-b46da805dfaca7ba",
     "locked": true,
     "schema_version": 1,
     "solution": false
    }
   },
   "source": [
    "Use list comprehension to create a list of the first five square integers (starting from 1).\n",
    "\n",
    "```Python\n",
    "[1, 4, 9, 16, 25]\n",
    "```"
   ]
  },
  {
   "cell_type": "code",
   "execution_count": null,
   "metadata": {
    "deletable": false,
    "nbgrader": {
     "checksum": "03dd343a9a03ea5e4142bdbb1b08b5db",
     "grade": false,
     "grade_id": "cell-c7e1f10b26c3abf2",
     "locked": false,
     "schema_version": 1,
     "solution": true
    }
   },
   "outputs": [],
   "source": [
    "# YOUR CODE HERE\n",
    "raise NotImplementedError()"
   ]
  },
  {
   "cell_type": "markdown",
   "metadata": {
    "deletable": false,
    "editable": false,
    "nbgrader": {
     "checksum": "1802645058d14ab083ec7169e9a9048d",
     "grade": false,
     "grade_id": "cell-fafeb4c485c531dc",
     "locked": true,
     "schema_version": 1,
     "solution": false
    }
   },
   "source": [
    "Use list comprehension to create a list of two-tuples describing the integer coordinates $(x,y)$ of a 2D grid $-3 \\le y \\le 3, -2 \\le x \\le 4$. \n",
    "```Python\n",
    "[(-2,-3), (-2,-2), ..., (4,2), (4,3)]\n",
    "```"
   ]
  },
  {
   "cell_type": "code",
   "execution_count": null,
   "metadata": {
    "deletable": false,
    "nbgrader": {
     "checksum": "dafa06026fc27c15d117531f46d48f5e",
     "grade": false,
     "grade_id": "cell-c8c2f16a71f06f66",
     "locked": false,
     "schema_version": 1,
     "solution": true
    }
   },
   "outputs": [],
   "source": [
    "# YOUR CODE HERE\n",
    "raise NotImplementedError()"
   ]
  },
  {
   "cell_type": "markdown",
   "metadata": {
    "deletable": false,
    "editable": false,
    "nbgrader": {
     "checksum": "f74e26519afa6638812b09a0a9d18606",
     "grade": false,
     "grade_id": "cell-f94d4469c386d9bd",
     "locked": true,
     "schema_version": 1,
     "solution": false
    }
   },
   "source": [
    "Use list comprehension to create a list of two-tuples describing the integer coordinates $(x,y)$ of a 2D grid  where $ -2 \\le y \\lt x, -2 \\le x \\le 4$. \n",
    "```Python\n",
    "[(-1,-2), (0,-2), (0,-1),..., (4,3)]\n",
    "```"
   ]
  },
  {
   "cell_type": "code",
   "execution_count": null,
   "metadata": {
    "deletable": false,
    "nbgrader": {
     "checksum": "d3af49ebf373939a4989c05620ee50e5",
     "grade": false,
     "grade_id": "cell-c0f3eb34dd482642",
     "locked": false,
     "schema_version": 1,
     "solution": true
    }
   },
   "outputs": [],
   "source": [
    "# YOUR CODE HERE\n",
    "raise NotImplementedError()"
   ]
  },
  {
   "cell_type": "markdown",
   "metadata": {
    "deletable": false,
    "editable": false,
    "nbgrader": {
     "checksum": "438e524e3dc046d0fad45cd860ffd30f",
     "grade": false,
     "grade_id": "cell-f10d4bc9e91701ea",
     "locked": true,
     "schema_version": 1,
     "solution": false
    }
   },
   "source": [
    "Write a function `merge` that takes a list of lists (e.g. `[[1,3],['one','three'],[(4,5),(6,7)]]` and returns a list with all the values in a single list (e.g. `[[1,3],['one','three'],[(4,5),(6,7)]]`->`[1,3,'one','three',(4,5), (6,7)]`"
   ]
  },
  {
   "cell_type": "code",
   "execution_count": null,
   "metadata": {
    "deletable": false,
    "nbgrader": {
     "checksum": "74f149fea682c543913cd7dfc3c72493",
     "grade": false,
     "grade_id": "cell-ad562715127a5e97",
     "locked": false,
     "schema_version": 1,
     "solution": true
    }
   },
   "outputs": [],
   "source": [
    "def merge(mylist):\n",
    "    # YOUR CODE HERE\n",
    "    raise NotImplementedError()"
   ]
  },
  {
   "cell_type": "code",
   "execution_count": null,
   "metadata": {
    "deletable": false,
    "editable": false,
    "nbgrader": {
     "checksum": "0236517ff4db1bdcb4b11cfa6e8177c8",
     "grade": true,
     "grade_id": "cell-f0fce91efed04932",
     "locked": true,
     "points": 0,
     "schema_version": 1,
     "solution": false
    }
   },
   "outputs": [],
   "source": [
    "assert_equal(merge([[1,2,3],[4,5,6],[(1,2), (3,4), (5,6)]]), [1, 2, 3, 4, 5, 6, (1, 2), (3, 4), (5, 6)])"
   ]
  },
  {
   "cell_type": "markdown",
   "metadata": {
    "deletable": false,
    "editable": false,
    "nbgrader": {
     "checksum": "5592212d0e4fc81a69e39ca0fb3d4893",
     "grade": false,
     "grade_id": "cell-38a740413b220263",
     "locked": true,
     "schema_version": 1,
     "solution": false
    }
   },
   "source": [
    "The *proper factors* for an integer $N$ are those integers $f$ that divide evenly into $N$ (i.e. with zero remainder) such that $1 \\le f \\lt N$. Write a function `pfactors` that takes as an argument an integer `N` and returns a list with the proper factors of `N`."
   ]
  },
  {
   "cell_type": "code",
   "execution_count": null,
   "metadata": {
    "deletable": false,
    "nbgrader": {
     "checksum": "fcd57442d989b9623ed486f5233dfaf3",
     "grade": false,
     "grade_id": "cell-530ea9610c5f506d",
     "locked": false,
     "schema_version": 1,
     "solution": true
    }
   },
   "outputs": [],
   "source": [
    "# YOUR CODE HERE\n",
    "raise NotImplementedError()"
   ]
  },
  {
   "cell_type": "code",
   "execution_count": null,
   "metadata": {
    "deletable": false,
    "editable": false,
    "nbgrader": {
     "checksum": "13495e219aa5b67ba92683868f57ddd4",
     "grade": true,
     "grade_id": "cell-12b150062c1a9814",
     "locked": true,
     "points": 0,
     "schema_version": 1,
     "solution": false
    }
   },
   "outputs": [],
   "source": [
    "assert_equal(pfactors(9),[1,3])\n",
    "assert_equal(pfactors(6),[1,2,3])\n",
    "assert_equal(pfactors(12), [1,2,3,4,6])"
   ]
  },
  {
   "cell_type": "markdown",
   "metadata": {
    "deletable": false,
    "editable": false,
    "nbgrader": {
     "checksum": "7031c57fd6f3be61b9d7e8a3a9542940",
     "grade": false,
     "grade_id": "cell-c1ba4e6a0e37548b",
     "locked": true,
     "schema_version": 1,
     "solution": false
    }
   },
   "source": [
    "An integer $N$ is called a perfect number of the sum of its proper factors equals $N$. Write a function `perfect` that takes an integer argument and returns `True` if $N$ is perfect and `False` otherwise."
   ]
  },
  {
   "cell_type": "code",
   "execution_count": null,
   "metadata": {
    "deletable": false,
    "nbgrader": {
     "checksum": "7233a5db2c8a70da9280e144ffe0bcc5",
     "grade": false,
     "grade_id": "cell-f732571db171e67e",
     "locked": false,
     "schema_version": 1,
     "solution": true
    }
   },
   "outputs": [],
   "source": [
    "def perfect(N):\n",
    "    # YOUR CODE HERE\n",
    "    raise NotImplementedError()"
   ]
  },
  {
   "cell_type": "code",
   "execution_count": null,
   "metadata": {
    "deletable": false,
    "editable": false,
    "nbgrader": {
     "checksum": "5568c2d088f410fce0b215e4a1e4587a",
     "grade": true,
     "grade_id": "cell-7d2c6ad4ca22e628",
     "locked": true,
     "points": 0,
     "schema_version": 1,
     "solution": false
    }
   },
   "outputs": [],
   "source": [
    "assert_true(perfect(28))\n",
    "assert_false(perfect(9))\n",
    "assert_true(perfect(6))\n",
    "assert_false(perfect(12))\n"
   ]
  },
  {
   "cell_type": "markdown",
   "metadata": {
    "deletable": false,
    "editable": false,
    "nbgrader": {
     "checksum": "24404189462983b811327dbd943f21d6",
     "grade": false,
     "grade_id": "cell-0053a47e183124ee",
     "locked": true,
     "schema_version": 1,
     "solution": false
    }
   },
   "source": [
    "Using the function `perfect` and list comprehension, write a function `perfects` that returns all the perfect numbers less than some integer `N`."
   ]
  },
  {
   "cell_type": "code",
   "execution_count": null,
   "metadata": {
    "deletable": false,
    "nbgrader": {
     "checksum": "a40fb05022a60750a48da36fa1fbb4ba",
     "grade": false,
     "grade_id": "cell-df3fc8e5b03306b1",
     "locked": false,
     "schema_version": 1,
     "solution": true
    }
   },
   "outputs": [],
   "source": [
    "def perfects(n):\n",
    "    # YOUR CODE HERE\n",
    "    raise NotImplementedError()"
   ]
  },
  {
   "cell_type": "code",
   "execution_count": null,
   "metadata": {},
   "outputs": [],
   "source": [
    "assert_equal(perfects(10), [6])\n",
    "assert_equal(perfects(100), [6, 28])\n",
    "assert_equal(perfects(1000), [6, 28, 496])\n",
    "assert_equal(perfects(10000), [6, 28, 496, 8128])"
   ]
  },
  {
   "cell_type": "markdown",
   "metadata": {},
   "source": [
    "Using a string `split()` method, the `zip` function and list comprehension, write a function `bigrams` that returns as a list of tuples all the `bi-grams` (two consecutive words, for example (\"we\", \"present\")). Text is taken from [this](https://www.ncbi.nlm.nih.gov/pubmed/29610178) Pubmed abstract."
   ]
  },
  {
   "cell_type": "code",
   "execution_count": null,
   "metadata": {},
   "outputs": [],
   "source": [
    "txt = \"\"\"We present a case of an infant with proximal hypospadias, penoscrotal transposition, and bilaterally \n",
    "descended testes found to have a clinically significant WT1 gene alteration on a customized disorder of sex \n",
    "development genetic panel in which 62 genes associated with 46, XY disorders of sex development were evaluated. \n",
    "This diagnosis led to early screening for and diagnosis and treatment of Wilms tumor. Patients with proximal \n",
    "hypospadias are not routinely evaluated by genetic testing, and when initial hormonal analyses are within normal \n",
    "ranges for a typical male patient, the genital atypia is usually attributed to an isolated anatomic abnormality. \n",
    "There is no consensus among urologists, endocrinologists, or geneticists regarding when genetic testing is warranted \n",
    "in these patients or the extent of genetic testing that should be pursued. However, given advances in genetic testing \n",
    "and the discovery of more genetic variants, the genetic evaluation of infants with proximal hypospadias should be \n",
    "considered on an individual patient basis. Only with continued evaluation and the identification of further genetic \n",
    "variants can we establish future parameters for genetic evaluation in patients with proximal hypospadias \n",
    "and more appropriately counsel patients and their families regarding the implications of these variants.\"\"\""
   ]
  },
  {
   "cell_type": "code",
   "execution_count": null,
   "metadata": {
    "deletable": false,
    "nbgrader": {
     "checksum": "80bc6b6bf61c4163ff8d296161f53cca",
     "grade": false,
     "grade_id": "cell-94f2878993abb3da",
     "locked": false,
     "schema_version": 1,
     "solution": true
    }
   },
   "outputs": [],
   "source": [
    "def bigrams(txt):\n",
    "    # YOUR CODE HERE\n",
    "    raise NotImplementedError()"
   ]
  },
  {
   "cell_type": "code",
   "execution_count": null,
   "metadata": {
    "deletable": false,
    "editable": false,
    "nbgrader": {
     "checksum": "8529195937b29607195f9215bdfd3baf",
     "grade": true,
     "grade_id": "cell-7e1e03b761cbc202",
     "locked": true,
     "points": 0,
     "schema_version": 1,
     "solution": false
    }
   },
   "outputs": [],
   "source": [
    "assert_equal(bigrams(txt)[15], ('testes', 'found'))\n",
    "\n",
    "assert_equal(bigrams(txt)[38], ('associated', 'with'))"
   ]
  },
  {
   "cell_type": "markdown",
   "metadata": {},
   "source": [
    "Use list comprehension to write a function `gcount` to count how many guanine nucleotides are in the sequence (Carpodacus mexicanus) provided below."
   ]
  },
  {
   "cell_type": "code",
   "execution_count": null,
   "metadata": {
    "deletable": false,
    "nbgrader": {
     "checksum": "4d7c9db5fc67966f1d6a9761b950879d",
     "grade": false,
     "grade_id": "cell-00ccffc957bcd080",
     "locked": false,
     "schema_version": 1,
     "solution": true
    }
   },
   "outputs": [],
   "source": [
    "seq = \"\"\"CCTTTATCTAATCTTTGGAGCATGAGCTGGCATAGTTGGAACCGCCCTCAGCCTCCTCATCCGTGCAGAA\n",
    "CTTGGACAACCTGGAACTCTTCTAGGAGACGACCAAATTTACAATGTAATCGTCACTGCCCACGCCTTCG\n",
    "TAATAATTTTCTTTATAGTAATACCAATCATGATCGGTGGTTTCGGAAACTGACTAGTCCCACTCATAAT\n",
    "CGGCGCCCCCGACATAGCATTCCCCCGTATAAACAACATAAGCTTCTGACTACTTCCCCCATCATTTCTT\n",
    "TTACTTCTAGCATCCTCCACAGTAGAAGCTGGAGCAGGAACAGGGTGAACAGTATATCCCCCTCTCGCTG\n",
    "GTAACCTAGCCCATGCCGGTGCTTCAGTAGACCTAGCCATCTTCTCCCTCCACTTAGCAGGTGTTTCCTC\n",
    "TATCCTAGGTGCTATTAACTTTATTACAACCGCCATCAACATAAAACCCCCAACCCTCTCCCAATACCAA\n",
    "ACCCCCCTATTCGTATGATCAGTCCTTATTACCGCCGTCCTTCTCCTACTCTCTCTCCCAGTCCTCGCTG\n",
    "CTGGCATTACTATACTACTAACAGACCGAAACCTAAACACTACGTTCTTTGACCCAGCTGGAGGAGGAGA\n",
    "CCCAGTCCTGTACCAACACCTCTTCTGATTCTTCGGCCATCCAGAAGTCTATATCCTCATTTTAC\"\"\"\n",
    "def gcount(seq):\n",
    "    # YOUR CODE HERE\n",
    "    raise NotImplementedError()"
   ]
  },
  {
   "cell_type": "code",
   "execution_count": null,
   "metadata": {
    "deletable": false,
    "editable": false,
    "nbgrader": {
     "checksum": "0f48b06b97efe099b29de96c76b7052d",
     "grade": true,
     "grade_id": "cell-c09da04a2dd9fb40",
     "locked": true,
     "points": 0,
     "schema_version": 1,
     "solution": false
    }
   },
   "outputs": [],
   "source": [
    "assert_equal(gcount(seq), 108)"
   ]
  },
  {
   "cell_type": "code",
   "execution_count": null,
   "metadata": {},
   "outputs": [],
   "source": []
  }
 ],
 "metadata": {
  "kernelspec": {
   "display_name": "Python 3",
   "language": "python",
   "name": "python3"
  },
  "language_info": {
   "codemirror_mode": {
    "name": "ipython",
    "version": 3
   },
   "file_extension": ".py",
   "mimetype": "text/x-python",
   "name": "python",
   "nbconvert_exporter": "python",
   "pygments_lexer": "ipython3",
   "version": "3.6.3"
  }
 },
 "nbformat": 4,
 "nbformat_minor": 2
}
