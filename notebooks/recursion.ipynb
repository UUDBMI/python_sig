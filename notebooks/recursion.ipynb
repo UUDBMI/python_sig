{
 "cells": [
  {
   "cell_type": "code",
   "execution_count": null,
   "metadata": {
    "deletable": false,
    "editable": false,
    "nbgrader": {
     "checksum": "cfbda11c13523f60d0464be9b4729ebd",
     "grade": false,
     "grade_id": "cell-bf1f36045aa3e197",
     "locked": true,
     "schema_version": 1,
     "solution": false
    }
   },
   "outputs": [],
   "source": [
    "import random\n",
    "import seaborn as sns\n",
    "from nose.tools import assert_equal, assert_true, assert_false, assert_almost_equal"
   ]
  },
  {
   "cell_type": "code",
   "execution_count": null,
   "metadata": {
    "deletable": false,
    "editable": false,
    "nbgrader": {
     "checksum": "4f891c4c531ff274508c23667cd233ef",
     "grade": false,
     "grade_id": "cell-f41e5793664a6930",
     "locked": true,
     "schema_version": 1,
     "solution": false
    }
   },
   "outputs": [],
   "source": [
    "class die(object):\n",
    "    def __init__(self, n=6):\n",
    "        self.__values = list(range(1,n+1))\n",
    "    def roll(self):\n",
    "        return random.choice(self.__values)\n",
    "    \n",
    "    @property\n",
    "    def values(self):\n",
    "        return self.__values[:]\n",
    "    @values.setter\n",
    "    def values(self, values):\n",
    "        self.__values = values"
   ]
  },
  {
   "cell_type": "markdown",
   "metadata": {},
   "source": [
    "Write a class `unfairDie` that inherits from `die` but represents anunfair die.\n",
    "\n",
    "**Hints**\n",
    "\n",
    "In my solution I used the `random.choices` and `random.randint` (with arguments 1 and 20) functions. I also used list concatenation."
   ]
  },
  {
   "cell_type": "code",
   "execution_count": null,
   "metadata": {
    "deletable": false,
    "nbgrader": {
     "checksum": "d0a8959a8df100b4878ddeb745460782",
     "grade": false,
     "grade_id": "cell-99902cf4d21eef86",
     "locked": false,
     "schema_version": 1,
     "solution": true
    }
   },
   "outputs": [],
   "source": [
    "# YOUR CODE HERE\n",
    "raise NotImplementedError()"
   ]
  },
  {
   "cell_type": "code",
   "execution_count": null,
   "metadata": {
    "deletable": false,
    "editable": false,
    "nbgrader": {
     "checksum": "273b1d0ada091c2458e826b4c033f260",
     "grade": false,
     "grade_id": "cell-8bf46d4bc2bfa5cb",
     "locked": true,
     "schema_version": 1,
     "solution": false
    }
   },
   "outputs": [],
   "source": [
    "die1 = unfairDie(n=6)\n",
    "rolls = [die1.roll() for i in range(100000)]"
   ]
  },
  {
   "cell_type": "code",
   "execution_count": null,
   "metadata": {
    "deletable": false,
    "editable": false,
    "nbgrader": {
     "checksum": "375ec784b8154e088ac6986e4c1800a5",
     "grade": false,
     "grade_id": "cell-675cbefe2049982d",
     "locked": true,
     "schema_version": 1,
     "solution": false
    }
   },
   "outputs": [],
   "source": [
    "sns.distplot(rolls,kde=False, norm_hist=True)"
   ]
  },
  {
   "cell_type": "markdown",
   "metadata": {
    "deletable": false,
    "editable": false,
    "nbgrader": {
     "checksum": "cd7786f39d8be099c9ed08038ee07062",
     "grade": false,
     "grade_id": "cell-e58f69e35d5044bb",
     "locked": true,
     "schema_version": 1,
     "solution": false
    }
   },
   "source": [
    "Write a function `count` that takes a list of roll values and returns a dictionary with an estimation of the probability of each value being rolled. Keys should be the die values (i.e. 1 to 6) and the values should be the estimated probability of that value being rolled. Compare this results to what you would compute from the values property of the unfair die."
   ]
  },
  {
   "cell_type": "code",
   "execution_count": null,
   "metadata": {
    "deletable": false,
    "nbgrader": {
     "checksum": "20c11e7b6067dfcd393c29f3f472657e",
     "grade": false,
     "grade_id": "cell-41fe19c68c130180",
     "locked": false,
     "schema_version": 1,
     "solution": true
    }
   },
   "outputs": [],
   "source": [
    "# YOUR CODE HERE\n",
    "raise NotImplementedError()"
   ]
  },
  {
   "cell_type": "code",
   "execution_count": null,
   "metadata": {
    "deletable": false,
    "editable": false,
    "nbgrader": {
     "checksum": "9682ab19e43f3ec081496ddaf4a370b5",
     "grade": false,
     "grade_id": "cell-fde82f8041d10e3b",
     "locked": true,
     "schema_version": 1,
     "solution": false
    }
   },
   "outputs": [],
   "source": [
    "count(rolls)"
   ]
  },
  {
   "cell_type": "code",
   "execution_count": null,
   "metadata": {
    "deletable": false,
    "editable": false,
    "nbgrader": {
     "checksum": "72632b13e68a9a234419d7adc6e2d6e0",
     "grade": true,
     "grade_id": "cell-ea6de06c76077dd3",
     "locked": true,
     "points": 0,
     "schema_version": 1,
     "solution": false
    }
   },
   "outputs": [],
   "source": [
    "assert_almost_equal(sum(count(rolls).values()), 1.0)"
   ]
  },
  {
   "cell_type": "markdown",
   "metadata": {
    "deletable": false,
    "editable": false,
    "nbgrader": {
     "checksum": "b27cb09fce27292d87abae7d3216eddc",
     "grade": false,
     "grade_id": "cell-9dc49741f974413c",
     "locked": true,
     "schema_version": 1,
     "solution": false
    }
   },
   "source": [
    "Use recursion to write a function `double_every_other` that takes as an argument a sequence of numbers (list or tuple) and returns a tuple with ever other element (starting from the second element) doubled (e.g. [0,1,2,3,4,5]->[0,2,2,6,4,10]).\n",
    "\n",
    "**Hints:** \n",
    "\n",
    "There will be two base cases:\n",
    "\n",
    "1. When the list is empty\n",
    "2. When the list has only one element in it\n",
    "\n",
    "Use slicing and concatenation."
   ]
  },
  {
   "cell_type": "code",
   "execution_count": null,
   "metadata": {
    "deletable": false,
    "nbgrader": {
     "checksum": "9bfde203765e517a354be6a14dbb8c29",
     "grade": false,
     "grade_id": "cell-0e669bc20815a9f7",
     "locked": false,
     "schema_version": 1,
     "solution": true
    }
   },
   "outputs": [],
   "source": [
    "# YOUR CODE HERE\n",
    "raise NotImplementedError()"
   ]
  },
  {
   "cell_type": "code",
   "execution_count": null,
   "metadata": {
    "deletable": false,
    "editable": false,
    "nbgrader": {
     "checksum": "01d4ea2dbf8869655b523390acd7f8c7",
     "grade": true,
     "grade_id": "cell-798764d5e1611e8d",
     "locked": true,
     "points": 0,
     "schema_version": 1,
     "solution": false
    }
   },
   "outputs": [],
   "source": [
    "assert_equal(double_every_other([1,2,3,4]), (1, 4, 3, 8))\n",
    "assert_equal(double_every_other([7,3,1,5,0,2,-3,4]), (7, 6, 1, 10, 0, 4, -3, 8))"
   ]
  },
  {
   "cell_type": "markdown",
   "metadata": {
    "deletable": false,
    "editable": false,
    "nbgrader": {
     "checksum": "2bd59f51d880f360d94ce6b496629d10",
     "grade": false,
     "grade_id": "cell-01b79029f56166cd",
     "locked": true,
     "schema_version": 1,
     "solution": false
    }
   },
   "source": [
    "The factorial function (usually denoted with a $!$ as in $5!$) is defined as \n",
    "\\begin{equation}\n",
    "n! = 1\\times 2 \\times \\cdots \\times (n-1) \\times n\n",
    "\\end{equation}\n",
    "\n",
    "Defining $0!=1$, we can express the factorial function recursively\n",
    "\n",
    "$$\n",
    " n! = \n",
    "  \\begin{cases} \n",
    "   0 & \\text{if } n=0 \\\\\n",
    "   n\\cdot(n-1)!       & \\text{otherwise }\n",
    "  \\end{cases}\n",
    "$$"
   ]
  },
  {
   "cell_type": "code",
   "execution_count": null,
   "metadata": {
    "deletable": false,
    "nbgrader": {
     "checksum": "d90e92e15aa047fac9976394ce32eef1",
     "grade": false,
     "grade_id": "cell-f1f6960566eac179",
     "locked": false,
     "schema_version": 1,
     "solution": true
    }
   },
   "outputs": [],
   "source": [
    "# YOUR CODE HERE\n",
    "raise NotImplementedError()"
   ]
  },
  {
   "cell_type": "code",
   "execution_count": null,
   "metadata": {
    "deletable": false,
    "editable": false,
    "nbgrader": {
     "checksum": "a8f90d20c2df25b7b0c6f2709ef7faa3",
     "grade": true,
     "grade_id": "cell-3647176a91d5d012",
     "locked": true,
     "points": 0,
     "schema_version": 1,
     "solution": false
    }
   },
   "outputs": [],
   "source": [
    "assert_equal(factorial(5), 120)\n",
    "assert_equal(factorial(23),25852016738884976640000)"
   ]
  },
  {
   "cell_type": "markdown",
   "metadata": {
    "deletable": false,
    "editable": false,
    "nbgrader": {
     "checksum": "73dbfcf0689ca366f0930a18104ac2e8",
     "grade": false,
     "grade_id": "cell-8e97e763523f1917",
     "locked": true,
     "schema_version": 1,
     "solution": false
    }
   },
   "source": [
    "Write a function `product` that computes the product of all the values in a list."
   ]
  },
  {
   "cell_type": "code",
   "execution_count": null,
   "metadata": {
    "deletable": false,
    "nbgrader": {
     "checksum": "692fafd8d12b978b0a6be7d5d3b6916c",
     "grade": false,
     "grade_id": "cell-0aa434ef4196b47f",
     "locked": false,
     "schema_version": 1,
     "solution": true
    }
   },
   "outputs": [],
   "source": [
    "# YOUR CODE HERE\n",
    "raise NotImplementedError()"
   ]
  },
  {
   "cell_type": "code",
   "execution_count": null,
   "metadata": {
    "deletable": false,
    "editable": false,
    "nbgrader": {
     "checksum": "f860c4bb52f6eed1ce93b29306e24740",
     "grade": true,
     "grade_id": "cell-a286bd335ae68929",
     "locked": true,
     "points": 0,
     "schema_version": 1,
     "solution": false
    }
   },
   "outputs": [],
   "source": [
    "assert_equal(product([1,2,3]),6)\n",
    "assert_equal(product([1,1,3,4,3,2]),72)"
   ]
  },
  {
   "cell_type": "markdown",
   "metadata": {
    "deletable": false,
    "editable": false,
    "nbgrader": {
     "checksum": "1d17581dba200f666cf742384542939c",
     "grade": false,
     "grade_id": "cell-c5cdffa8cba5c5fe",
     "locked": true,
     "schema_version": 1,
     "solution": false
    }
   },
   "source": [
    "Use recursion to write a function `euclid` that comptues the greatest common denominator of two positive integers using Euclids algorithm for the GCD."
   ]
  },
  {
   "cell_type": "code",
   "execution_count": null,
   "metadata": {
    "deletable": false,
    "nbgrader": {
     "checksum": "2381a8b1388cd7333f69635604ce2ee5",
     "grade": false,
     "grade_id": "cell-d8b2025c42ce7e46",
     "locked": false,
     "schema_version": 1,
     "solution": true
    }
   },
   "outputs": [],
   "source": [
    "# YOUR CODE HERE\n",
    "raise NotImplementedError()"
   ]
  },
  {
   "cell_type": "code",
   "execution_count": null,
   "metadata": {
    "deletable": false,
    "editable": false,
    "nbgrader": {
     "checksum": "b5d0e80878b2fcdfaebf507322236c9a",
     "grade": true,
     "grade_id": "cell-c44ec6e6f9dd4261",
     "locked": true,
     "points": 0,
     "schema_version": 1,
     "solution": false
    }
   },
   "outputs": [],
   "source": [
    "assert_equal(euclid(27,6),3)\n",
    "assert_equal(euclid(12537,35),7)"
   ]
  },
  {
   "cell_type": "markdown",
   "metadata": {
    "deletable": false,
    "editable": false,
    "nbgrader": {
     "checksum": "24224fc96197659dc9a647cef94984c9",
     "grade": false,
     "grade_id": "cell-64f130e2f8c5134d",
     "locked": true,
     "schema_version": 1,
     "solution": false
    }
   },
   "source": [
    "Use recursion to write a Python implementation of the quick sort algorithm to sort the values of a list."
   ]
  },
  {
   "cell_type": "code",
   "execution_count": null,
   "metadata": {
    "deletable": false,
    "nbgrader": {
     "checksum": "ebb1e307ef44d29b77c09a59d9545558",
     "grade": false,
     "grade_id": "cell-e47f437a781382cb",
     "locked": false,
     "schema_version": 1,
     "solution": true
    }
   },
   "outputs": [],
   "source": [
    "# YOUR CODE HERE\n",
    "raise NotImplementedError()"
   ]
  },
  {
   "cell_type": "code",
   "execution_count": null,
   "metadata": {
    "deletable": false,
    "editable": false,
    "nbgrader": {
     "checksum": "be8f3f3ff096c55c3518b5f3f0c28c0e",
     "grade": true,
     "grade_id": "cell-d10e8fb5e0b4df17",
     "locked": true,
     "points": 0,
     "schema_version": 1,
     "solution": false
    }
   },
   "outputs": [],
   "source": [
    "assert_equal(qsort([3,1,5,4,-2,9,17,-4]), [-4, -2, 1, 3, 4, 5, 9, 17])\n",
    "assert_equal(qsort([3,1,1,2,3,5,4,7]), [1, 1, 2, 3, 3, 4, 5, 7])"
   ]
  },
  {
   "cell_type": "markdown",
   "metadata": {
    "deletable": false,
    "editable": false,
    "nbgrader": {
     "checksum": "9bbb24ae14286439d2da9a9e90ae38ff",
     "grade": false,
     "grade_id": "cell-cd799da19f2e69f7",
     "locked": true,
     "schema_version": 1,
     "solution": false
    }
   },
   "source": [
    "Write a function `drop` that takes a list and and an integer N and returns a list with the first N elements dropped."
   ]
  },
  {
   "cell_type": "code",
   "execution_count": null,
   "metadata": {
    "deletable": false,
    "nbgrader": {
     "checksum": "df576ab874fd8d660c65baed3e3fb79b",
     "grade": false,
     "grade_id": "cell-7aad3abe169ad963",
     "locked": false,
     "schema_version": 1,
     "solution": true
    }
   },
   "outputs": [],
   "source": [
    "# YOUR CODE HERE\n",
    "raise NotImplementedError()"
   ]
  },
  {
   "cell_type": "code",
   "execution_count": null,
   "metadata": {
    "deletable": false,
    "editable": false,
    "nbgrader": {
     "checksum": "ceb05e7c3a66a2ff6cc6df535f539df8",
     "grade": true,
     "grade_id": "cell-b4f14c2b0ac62696",
     "locked": true,
     "points": 0,
     "schema_version": 1,
     "solution": false
    }
   },
   "outputs": [],
   "source": [
    "assert_equal(drop([1,2,3,4,5],2), [3,4,5])\n",
    "assert_equal(drop([5,4,3,2,1],0), [5, 4, 3, 2, 1])\n",
    "assert_equal(drop([1,2,3,4,5],9),[])"
   ]
  },
  {
   "cell_type": "markdown",
   "metadata": {
    "deletable": false,
    "editable": false,
    "nbgrader": {
     "checksum": "1be8f662e2945fda7186c5f942fd817a",
     "grade": false,
     "grade_id": "cell-b790930f49c5ec25",
     "locked": true,
     "schema_version": 1,
     "solution": false
    }
   },
   "source": [
    "Write a function `zipper` that takes two sequences, `xs` and `ys`, and returns a sequence of the corresponding pairs ---[(x[0],ys[0]), (xs[1],ys[1]),...]---from `xs` and `ys` until one of the sequences is exhausted."
   ]
  },
  {
   "cell_type": "code",
   "execution_count": null,
   "metadata": {
    "deletable": false,
    "nbgrader": {
     "checksum": "de3e702a0a9e2852d058ab647f584207",
     "grade": false,
     "grade_id": "cell-2f8dd69e7c628c8a",
     "locked": false,
     "schema_version": 1,
     "solution": true
    }
   },
   "outputs": [],
   "source": [
    "# YOUR CODE HERE\n",
    "raise NotImplementedError()"
   ]
  },
  {
   "cell_type": "code",
   "execution_count": null,
   "metadata": {
    "deletable": false,
    "editable": false,
    "nbgrader": {
     "checksum": "2be3cb7e76c9850fd4b10ff42410e037",
     "grade": true,
     "grade_id": "cell-e579ddbca10a7fa1",
     "locked": true,
     "points": 0,
     "schema_version": 1,
     "solution": false
    }
   },
   "outputs": [],
   "source": [
    "assert_equal(zipper([1,2,3],[1,2]), [(1, 1), (2, 2)])\n",
    "assert_equal(zipper([1,2],[1,2,3]), [(1, 1), (2, 2)])\n",
    "assert_equal(zipper([1,2,3],[]),[])\n",
    "assert_equal(zipper([1,2,3,4],[4,3,2,1]), [(1, 4), (2, 3), (3, 2), (4, 1)])\n",
    "assert_equal(zipper(\"Brian\", \"Chapman\"), [('B', 'C'), ('r', 'h'), ('i', 'a'), ('a', 'p'), ('n', 'm')])"
   ]
  },
  {
   "cell_type": "code",
   "execution_count": null,
   "metadata": {},
   "outputs": [],
   "source": []
  }
 ],
 "metadata": {
  "kernelspec": {
   "display_name": "Python 3",
   "language": "python",
   "name": "python3"
  },
  "language_info": {
   "codemirror_mode": {
    "name": "ipython",
    "version": 3
   },
   "file_extension": ".py",
   "mimetype": "text/x-python",
   "name": "python",
   "nbconvert_exporter": "python",
   "pygments_lexer": "ipython3",
   "version": "3.6.3"
  }
 },
 "nbformat": 4,
 "nbformat_minor": 2
}
