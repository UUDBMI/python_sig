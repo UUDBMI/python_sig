{
 "cells": [
  {
   "cell_type": "code",
   "execution_count": null,
   "metadata": {},
   "outputs": [],
   "source": [
    "import pandas as pd\n",
    "import pyorient"
   ]
  },
  {
   "cell_type": "code",
   "execution_count": null,
   "metadata": {},
   "outputs": [],
   "source": [
    "data = pd.read_excel(\"../docker/interleaving_data_for_neo4j.xlsx\", \n",
    "                     usecols=range(0,19))"
   ]
  },
  {
   "cell_type": "code",
   "execution_count": null,
   "metadata": {},
   "outputs": [],
   "source": [
    "set(data[\"patient\"])#.unique()"
   ]
  },
  {
   "cell_type": "code",
   "execution_count": null,
   "metadata": {},
   "outputs": [],
   "source": []
  },
  {
   "cell_type": "code",
   "execution_count": null,
   "metadata": {},
   "outputs": [],
   "source": [
    "client = pyorient.OrientDB(\"myorient\", 2424)\n",
    "client.connect(\"root\", \"root\")"
   ]
  },
  {
   "cell_type": "code",
   "execution_count": null,
   "metadata": {},
   "outputs": [],
   "source": [
    "odbl = client.db_list()"
   ]
  },
  {
   "cell_type": "code",
   "execution_count": null,
   "metadata": {},
   "outputs": [],
   "source": [
    "print(odbl)"
   ]
  },
  {
   "cell_type": "code",
   "execution_count": null,
   "metadata": {},
   "outputs": [],
   "source": [
    "client.db_drop(\"interleave\")\n",
    "client.db_create(\"interleave\", type=\"graph\")\n",
    "client.db_open(\"interleave\", \"admin\", \"admin\")"
   ]
  },
  {
   "cell_type": "code",
   "execution_count": null,
   "metadata": {},
   "outputs": [],
   "source": [
    "help(client.db_open)"
   ]
  },
  {
   "cell_type": "markdown",
   "metadata": {},
   "source": [
    "## DB Design\n",
    "\n",
    "### Node Types\n",
    "\n",
    "1. Patient\n",
    "1. Disease\n",
    "1. Leads\n",
    "1. Visit\n",
    "\n",
    "### Relationship Types\n",
    "\n",
    "1. "
   ]
  },
  {
   "cell_type": "code",
   "execution_count": null,
   "metadata": {},
   "outputs": [],
   "source": [
    "patient_properties_cmds = [\n",
    "    'CREATE CLASS Patient EXTENDS V',\n",
    "    'CREATE PROPERTY Patient.id STRING',\n",
    "    'CREATE PROPERTY Patient.sex STRING',\n",
    "    'CREATE PROPERTY Patient.dob DATE',\n",
    "    'CREATE PROPERTY Patient.age FLOAT',\n",
    "    'CREATE PROPERTY Patient.bmi FLOAT',\n",
    "    'CREATE PROPERTY Patient.diagnosis STRING']\n",
    "client.batch(\";\".join(patient_properties_cmds))"
   ]
  },
  {
   "cell_type": "code",
   "execution_count": null,
   "metadata": {},
   "outputs": [],
   "source": [
    "for _, row in data.iterrows():\n",
    "    print(row[\"patient\"])\n",
    "    cmd = '''CREATE vertex Patient SET id='%s', sex='%s', dob='%s', age='%s', bmi='%s', diagnosis=\"%s\"'''%\\\n",
    "           (row[\"patient\"],\n",
    "            row[\"gender\"],\n",
    "            row[\"birthday\"],\n",
    "            row[\"surgery_age\"],\n",
    "            row[\"BMI\"],\n",
    "            row[\"principle_diagnosis\"])\n",
    "    print(cmd)\n",
    "    client.command(cmd)"
   ]
  },
  {
   "cell_type": "code",
   "execution_count": null,
   "metadata": {},
   "outputs": [],
   "source": [
    "for v in client.query(\"\"\"SELECT FROM v\"\"\"):\n",
    "    print(v)"
   ]
  },
  {
   "cell_type": "code",
   "execution_count": null,
   "metadata": {},
   "outputs": [],
   "source": [
    "for _, row in data.iterrows():\n",
    "    print(row)\n",
    "    print()"
   ]
  },
  {
   "cell_type": "code",
   "execution_count": null,
   "metadata": {},
   "outputs": [],
   "source": [
    "disease_properties_cmds = [\n",
    "    'CREATE CLASS Disease EXTENDS V',\n",
    "    'CREATE PROPERTY Disease.id STRING',\n",
    "    'CREATE PROPERTY Disease.onset DATE',\n",
    "    'CREATE PROPERTY Disease.age FLOAT']\n",
    "client.batch(\";\".join(disease_properties_cmds))"
   ]
  },
  {
   "cell_type": "code",
   "execution_count": null,
   "metadata": {},
   "outputs": [],
   "source": [
    "for _, row in data.iterrows():\n",
    "    print(row[\"patient\"])\n",
    "    cmd = \"\"\"CREATE vertex Patient SET id='%s', sex='%s', dob='%s', age='%s', bmi='%s'\"\"\"%\\\n",
    "           (row[\"patient\"],\n",
    "            row[\"gender\"],\n",
    "            row[\"birthday\"],\n",
    "            row[\"surgery_age\"],\n",
    "            row[\"BMI\"])\n",
    "    client.command(cmd)"
   ]
  },
  {
   "cell_type": "code",
   "execution_count": null,
   "metadata": {},
   "outputs": [],
   "source": [
    "lead_properties_cmds = [\n",
    "    'CREATE CLASS Lead EXTENDS V',\n",
    "    'CREATE PROPERTY Lead.laterality STRING',\n",
    "    'CREATE PROPERTY Lead.TYPE STRING',\n",
    "    'CREATE PROPERTY Lead.implant_date DATE',\n",
    "    'CREATE PROPERTY Lead.target STRING']\n",
    "client.batch(\";\".join(lead_properties_cmds))"
   ]
  },
  {
   "cell_type": "code",
   "execution_count": null,
   "metadata": {},
   "outputs": [],
   "source": []
  }
 ],
 "metadata": {
  "kernelspec": {
   "display_name": "Python 3",
   "language": "python",
   "name": "python3"
  },
  "language_info": {
   "codemirror_mode": {
    "name": "ipython",
    "version": 3
   },
   "file_extension": ".py",
   "mimetype": "text/x-python",
   "name": "python",
   "nbconvert_exporter": "python",
   "pygments_lexer": "ipython3",
   "version": "3.6.3"
  }
 },
 "nbformat": 4,
 "nbformat_minor": 2
}
